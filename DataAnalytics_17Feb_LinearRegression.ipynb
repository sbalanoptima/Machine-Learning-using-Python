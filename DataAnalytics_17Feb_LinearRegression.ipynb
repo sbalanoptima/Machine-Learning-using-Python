{
 "cells": [
  {
   "cell_type": "markdown",
   "metadata": {},
   "source": [
    "## Multiple Linear regression"
   ]
  },
  {
   "cell_type": "code",
   "execution_count": 1,
   "metadata": {},
   "outputs": [],
   "source": [
    "# Importing libraries\n",
    "import numpy as np\n",
    "import matplotlib.pyplot as plt\n",
    "import pandas as pd\n",
    "import seaborn as sns\n",
    "%matplotlib inline"
   ]
  },
  {
   "cell_type": "code",
   "execution_count": 2,
   "metadata": {},
   "outputs": [],
   "source": [
    "# Import data and load variables as ID and D \n",
    "companies=pd.read_csv('C:/Users/HP/Desktop/DA/final/linearmodel.csv')\n",
    "X=companies.iloc[:,:4].values\n",
    "y=companies.iloc[:,4].values"
   ]
  },
  {
   "cell_type": "code",
   "execution_count": 3,
   "metadata": {},
   "outputs": [
    {
     "data": {
      "text/html": [
       "<div>\n",
       "<style scoped>\n",
       "    .dataframe tbody tr th:only-of-type {\n",
       "        vertical-align: middle;\n",
       "    }\n",
       "\n",
       "    .dataframe tbody tr th {\n",
       "        vertical-align: top;\n",
       "    }\n",
       "\n",
       "    .dataframe thead th {\n",
       "        text-align: right;\n",
       "    }\n",
       "</style>\n",
       "<table border=\"1\" class=\"dataframe\">\n",
       "  <thead>\n",
       "    <tr style=\"text-align: right;\">\n",
       "      <th></th>\n",
       "      <th>x1</th>\n",
       "      <th>x2</th>\n",
       "      <th>x3</th>\n",
       "      <th>x4</th>\n",
       "      <th>y</th>\n",
       "    </tr>\n",
       "  </thead>\n",
       "  <tbody>\n",
       "    <tr>\n",
       "      <th>0</th>\n",
       "      <td>0.636682</td>\n",
       "      <td>0.764120</td>\n",
       "      <td>0.301581</td>\n",
       "      <td>0.359851</td>\n",
       "      <td>463.26</td>\n",
       "    </tr>\n",
       "    <tr>\n",
       "      <th>1</th>\n",
       "      <td>0.446943</td>\n",
       "      <td>0.661130</td>\n",
       "      <td>0.691431</td>\n",
       "      <td>0.677439</td>\n",
       "      <td>444.37</td>\n",
       "    </tr>\n",
       "    <tr>\n",
       "      <th>2</th>\n",
       "      <td>0.892136</td>\n",
       "      <td>0.459750</td>\n",
       "      <td>0.258183</td>\n",
       "      <td>0.053760</td>\n",
       "      <td>488.56</td>\n",
       "    </tr>\n",
       "    <tr>\n",
       "      <th>3</th>\n",
       "      <td>0.683410</td>\n",
       "      <td>0.410682</td>\n",
       "      <td>0.587716</td>\n",
       "      <td>0.543195</td>\n",
       "      <td>446.48</td>\n",
       "    </tr>\n",
       "    <tr>\n",
       "      <th>4</th>\n",
       "      <td>0.952464</td>\n",
       "      <td>0.384871</td>\n",
       "      <td>0.223244</td>\n",
       "      <td>0.231200</td>\n",
       "      <td>473.90</td>\n",
       "    </tr>\n",
       "  </tbody>\n",
       "</table>\n",
       "</div>"
      ],
      "text/plain": [
       "         x1        x2        x3        x4       y\n",
       "0  0.636682  0.764120  0.301581  0.359851  463.26\n",
       "1  0.446943  0.661130  0.691431  0.677439  444.37\n",
       "2  0.892136  0.459750  0.258183  0.053760  488.56\n",
       "3  0.683410  0.410682  0.587716  0.543195  446.48\n",
       "4  0.952464  0.384871  0.223244  0.231200  473.90"
      ]
     },
     "execution_count": 3,
     "metadata": {},
     "output_type": "execute_result"
    }
   ],
   "source": [
    "companies.head()"
   ]
  },
  {
   "cell_type": "code",
   "execution_count": 4,
   "metadata": {},
   "outputs": [
    {
     "data": {
      "text/plain": [
       "<matplotlib.axes._subplots.AxesSubplot at 0x209ac896358>"
      ]
     },
     "execution_count": 4,
     "metadata": {},
     "output_type": "execute_result"
    },
    {
     "data": {
      "image/png": "[encoded data removed]",
      "text/plain": [
       "<matplotlib.figure.Figure at 0x209ab7ceef0>"
      ]
     },
     "metadata": {},
     "output_type": "display_data"
    }
   ],
   "source": [
    "# Data visualization\n",
    "# Correlation matrix\n",
    "sns.heatmap(companies.corr())"
   ]
  },
  {
   "cell_type": "code",
   "execution_count": 5,
   "metadata": {},
   "outputs": [],
   "source": [
    "# Split training and testing dataset (80/20)\n",
    "from sklearn.model_selection import train_test_split\n",
    "X_train, X_test, y_train, y_test = train_test_split(X,y,test_size=0.2,random_state=0)"
   ]
  },
  {
   "cell_type": "code",
   "execution_count": 6,
   "metadata": {},
   "outputs": [
    {
     "data": {
      "text/plain": [
       "200"
      ]
     },
     "execution_count": 6,
     "metadata": {},
     "output_type": "execute_result"
    }
   ],
   "source": [
    "len(X_test)"
   ]
  },
  {
   "cell_type": "code",
   "execution_count": 7,
   "metadata": {},
   "outputs": [
    {
     "data": {
      "text/plain": [
       "LinearRegression(copy_X=True, fit_intercept=True, n_jobs=1, normalize=False)"
      ]
     },
     "execution_count": 7,
     "metadata": {},
     "output_type": "execute_result"
    }
   ],
   "source": [
    "# Fitting regression model\n",
    "from sklearn.linear_model import LinearRegression\n",
    "model_fit=LinearRegression()\n",
    "model_fit.fit(X_train, y_train)"
   ]
  },
  {
   "cell_type": "code",
   "execution_count": 8,
   "metadata": {},
   "outputs": [
    {
     "name": "stdout",
     "output_type": "stream",
     "text": [
      "[483.85525765 462.80434785 431.37247395 449.04083939 473.41260099\n",
      " 446.91487198 479.55007345 435.55459329 443.08993135 460.44774793\n",
      " 472.96372077 475.94646697 446.24046023 461.63952346 461.23729993\n",
      " 447.02093134 454.11786546 429.32880133 435.36127633 436.29334485\n",
      " 441.98339801 472.73080301 439.53872019 468.88709814 478.95322482\n",
      " 454.60852849 451.50126958 432.27978759 444.70317068 444.33544147\n",
      " 483.65305355 469.5887008  474.65142236 437.74733265 443.88199346\n",
      " 477.3673644  467.69271239 449.16022782 479.50115345 442.35331747\n",
      " 465.56694371 451.75725989 441.86208882 469.15687046 442.80427145\n",
      " 436.52774196 432.88520037 472.99905879 447.766803   461.55017841\n",
      " 451.97768871 439.69975037 471.86334726 435.31328883 454.091256\n",
      " 444.85945647 476.7656754  448.22494406 447.87459211 479.47504704\n",
      " 462.96443615 445.27569849 427.38045375 452.47769317 462.74978027\n",
      " 428.78627071 463.09036714 466.92273239 487.3115598  479.42909193\n",
      " 476.04412359 428.03253121 445.703473   452.10191871 447.73102889\n",
      " 472.18447455 464.16794655 476.95565567 468.7254265  454.03345213\n",
      " 430.5744305  434.21170771 476.53114733 453.82468745 441.87053469\n",
      " 469.57021133 430.58435994 467.07158549 426.67631507 487.09833711\n",
      " 445.41384318 438.08924121 447.94039175 467.26172049 488.1025806\n",
      " 439.20847545 440.19328653 441.10344119 435.58858303 441.75774089\n",
      " 435.21833242 457.22819444 439.82722005 454.12597787 476.1519099\n",
      " 469.93032494 453.40630375 428.68028038 432.301835   465.4122874\n",
      " 439.49706101 442.60958064 451.66955407 473.99972438 463.77811901\n",
      " 441.37658734 459.13604635 478.61306789 427.11339039 477.38115207\n",
      " 488.20120492 472.38380449 439.97954115 447.02731754 442.96044703\n",
      " 433.60325693 455.6116627  431.79972537 433.45111312 482.88845343\n",
      " 440.63060668 447.0596588  451.46250331 468.86636686 483.11997296\n",
      " 474.26411324 436.10307519 472.67568896 468.02395395 426.95957591\n",
      " 446.76928816 432.01578981 441.27907142 482.95175993 451.46627703\n",
      " 430.45364052 439.0329525  448.56643046 467.94055677 447.28536329\n",
      " 437.22459708 449.26721808 469.20252621 460.84395158 436.46207368\n",
      " 468.71997264 429.3653631  471.70010474 469.53997497 436.5882204\n",
      " 471.88062741 468.65604902 459.26239374 465.69641829 478.39246173\n",
      " 465.40047005 450.34645378 433.11026854 468.93624423 441.44261684\n",
      " 466.35395519 471.71426058 427.12042032 445.51663866 476.52731415\n",
      " 462.54670385 445.3943259  441.9845508  466.64550463 445.72612476\n",
      " 432.75532233 465.74351941 461.28611378 461.48471825 443.8304089\n",
      " 466.45642912 461.00784906 452.23084665 468.25352946 443.53088417\n",
      " 444.04051005 471.87063333 478.52993219 442.2956057  477.76686869\n",
      " 477.64689845 451.87834173 445.41910965 450.63819196 441.90635678]\n"
     ]
    },
    {
     "data": {
      "text/plain": [
       "200"
      ]
     },
     "execution_count": 8,
     "metadata": {},
     "output_type": "execute_result"
    }
   ],
   "source": [
    "# Predicting test set results\n",
    "y_pred=model_fit.predict(X_test)\n",
    "print(y_pred)\n",
    "len(y_pred)"
   ]
  },
  {
   "cell_type": "code",
   "execution_count": 9,
   "metadata": {},
   "outputs": [
    {
     "name": "stdout",
     "output_type": "stream",
     "text": [
      "[-12.65321539   2.84833884 -10.91562603 -65.85736552]\n",
      "500.2693617091388\n"
     ]
    }
   ],
   "source": [
    "# Calculating coefficients\n",
    "print(model_fit.coef_)\n",
    "print(model_fit.intercept_)"
   ]
  },
  {
   "cell_type": "code",
   "execution_count": 10,
   "metadata": {},
   "outputs": [
    {
     "data": {
      "text/plain": [
       "0.9367442425823448"
      ]
     },
     "execution_count": 10,
     "metadata": {},
     "output_type": "execute_result"
    }
   ],
   "source": [
    "# Calculating R square\n",
    "from sklearn.metrics import r2_score,mean_squared_error\n",
    "r2_score(y_test,y_pred)"
   ]
  },
  {
   "cell_type": "code",
   "execution_count": 11,
   "metadata": {},
   "outputs": [
    {
     "data": {
      "text/plain": [
       "18.831681589938047"
      ]
     },
     "execution_count": 11,
     "metadata": {},
     "output_type": "execute_result"
    }
   ],
   "source": [
    "mean_squared_error(y_test,y_pred)"
   ]
  },
  {
   "cell_type": "markdown",
   "metadata": {},
   "source": [
    "# Example 2\n",
    "## With categorical variables"
   ]
  },
  {
   "cell_type": "code",
   "execution_count": 12,
   "metadata": {},
   "outputs": [],
   "source": [
    "# Importing libraries\n",
    "import numpy as np\n",
    "import matplotlib.pyplot as plt\n",
    "import pandas as pd\n",
    "import seaborn as sns\n",
    "%matplotlib inline"
   ]
  },
  {
   "cell_type": "code",
   "execution_count": 13,
   "metadata": {},
   "outputs": [],
   "source": [
    "# Import data and load variables as ID and D \n",
    "companies=pd.read_csv('C:/Users/HP/Desktop/DA/final/1000_companies.csv')\n",
    "X=companies.iloc[:,:4].values\n",
    "y=companies.iloc[:,4].values"
   ]
  },
  {
   "cell_type": "code",
   "execution_count": 14,
   "metadata": {},
   "outputs": [
    {
     "data": {
      "text/html": [
       "<div>\n",
       "<style scoped>\n",
       "    .dataframe tbody tr th:only-of-type {\n",
       "        vertical-align: middle;\n",
       "    }\n",
       "\n",
       "    .dataframe tbody tr th {\n",
       "        vertical-align: top;\n",
       "    }\n",
       "\n",
       "    .dataframe thead th {\n",
       "        text-align: right;\n",
       "    }\n",
       "</style>\n",
       "<table border=\"1\" class=\"dataframe\">\n",
       "  <thead>\n",
       "    <tr style=\"text-align: right;\">\n",
       "      <th></th>\n",
       "      <th>R&amp;D Spend</th>\n",
       "      <th>Administration</th>\n",
       "      <th>Marketing Spend</th>\n",
       "      <th>State</th>\n",
       "      <th>Profit</th>\n",
       "    </tr>\n",
       "  </thead>\n",
       "  <tbody>\n",
       "    <tr>\n",
       "      <th>0</th>\n",
       "      <td>165349.20</td>\n",
       "      <td>136897.80</td>\n",
       "      <td>471784.10</td>\n",
       "      <td>New York</td>\n",
       "      <td>192261.83</td>\n",
       "    </tr>\n",
       "    <tr>\n",
       "      <th>1</th>\n",
       "      <td>162597.70</td>\n",
       "      <td>151377.59</td>\n",
       "      <td>443898.53</td>\n",
       "      <td>California</td>\n",
       "      <td>191792.06</td>\n",
       "    </tr>\n",
       "    <tr>\n",
       "      <th>2</th>\n",
       "      <td>153441.51</td>\n",
       "      <td>101145.55</td>\n",
       "      <td>407934.54</td>\n",
       "      <td>Florida</td>\n",
       "      <td>191050.39</td>\n",
       "    </tr>\n",
       "    <tr>\n",
       "      <th>3</th>\n",
       "      <td>144372.41</td>\n",
       "      <td>118671.85</td>\n",
       "      <td>383199.62</td>\n",
       "      <td>New York</td>\n",
       "      <td>182901.99</td>\n",
       "    </tr>\n",
       "    <tr>\n",
       "      <th>4</th>\n",
       "      <td>142107.34</td>\n",
       "      <td>91391.77</td>\n",
       "      <td>366168.42</td>\n",
       "      <td>Florida</td>\n",
       "      <td>166187.94</td>\n",
       "    </tr>\n",
       "  </tbody>\n",
       "</table>\n",
       "</div>"
      ],
      "text/plain": [
       "   R&D Spend  Administration  Marketing Spend       State     Profit\n",
       "0  165349.20       136897.80        471784.10    New York  192261.83\n",
       "1  162597.70       151377.59        443898.53  California  191792.06\n",
       "2  153441.51       101145.55        407934.54     Florida  191050.39\n",
       "3  144372.41       118671.85        383199.62    New York  182901.99\n",
       "4  142107.34        91391.77        366168.42     Florida  166187.94"
      ]
     },
     "execution_count": 14,
     "metadata": {},
     "output_type": "execute_result"
    }
   ],
   "source": [
    "companies.head()"
   ]
  },
  {
   "cell_type": "code",
   "execution_count": 15,
   "metadata": {},
   "outputs": [
    {
     "data": {
      "text/plain": [
       "<matplotlib.axes._subplots.AxesSubplot at 0x209ad0094e0>"
      ]
     },
     "execution_count": 15,
     "metadata": {},
     "output_type": "execute_result"
    },
    {
     "data": {
      "image/png": "[encoded data removed]",
      "text/plain": [
       "<matplotlib.figure.Figure at 0x209ad009940>"
      ]
     },
     "metadata": {},
     "output_type": "display_data"
    }
   ],
   "source": [
    "# Data visualization\n",
    "# Correlation matrix\n",
    "sns.heatmap(companies.corr())"
   ]
  },
  {
   "cell_type": "code",
   "execution_count": 16,
   "metadata": {},
   "outputs": [],
   "source": [
    "# Encoding categorical data if any\n",
    "from sklearn.preprocessing import LabelEncoder, OneHotEncoder\n",
    "labelencoder=LabelEncoder()\n",
    "X[:,3]=labelencoder.fit_transform(X[:,3])\n",
    "# 3rd column from 0th index \n",
    "\n",
    "onehotencoder=OneHotEncoder(categorical_features=[3])\n",
    "X=onehotencoder.fit_transform(X).toarray()"
   ]
  },
  {
   "cell_type": "code",
   "execution_count": 17,
   "metadata": {},
   "outputs": [],
   "source": [
    "# Avoid dummy variable trap\n",
    "X=X[:,1:]\n",
    "# Removing one column from onehotencoder"
   ]
  },
  {
   "cell_type": "code",
   "execution_count": 18,
   "metadata": {},
   "outputs": [],
   "source": [
    "# Split training and testing dataset (80/20)\n",
    "from sklearn.model_selection import train_test_split\n",
    "X_train, X_test, y_train, y_test = train_test_split(X,y,test_size=0.2,random_state=0)"
   ]
  },
  {
   "cell_type": "code",
   "execution_count": 19,
   "metadata": {},
   "outputs": [
    {
     "data": {
      "text/plain": [
       "200"
      ]
     },
     "execution_count": 19,
     "metadata": {},
     "output_type": "execute_result"
    }
   ],
   "source": [
    "len(X_test)"
   ]
  },
  {
   "cell_type": "code",
   "execution_count": 20,
   "metadata": {},
   "outputs": [
    {
     "data": {
      "text/plain": [
       "LinearRegression(copy_X=True, fit_intercept=True, n_jobs=1, normalize=False)"
      ]
     },
     "execution_count": 20,
     "metadata": {},
     "output_type": "execute_result"
    }
   ],
   "source": [
    "# Fitting regression model\n",
    "from sklearn.linear_model import LinearRegression\n",
    "model_fit=LinearRegression()\n",
    "model_fit.fit(X_train, y_train)"
   ]
  },
  {
   "cell_type": "code",
   "execution_count": 21,
   "metadata": {},
   "outputs": [
    {
     "name": "stdout",
     "output_type": "stream",
     "text": [
      "[ 89790.61532915  88427.07187361  94894.67836972 175680.86725611\n",
      "  83411.73042088 110571.90200074 132145.22936439  91473.37719686\n",
      " 164597.05380606  53222.82667401  66950.19050989 150566.43987005\n",
      " 126915.20858596  59337.8597105  177513.91053062  75316.28143051\n",
      " 118248.14406603 164574.40699902 170937.2898107  182069.11645084\n",
      " 118845.03252689  85669.95112229 180992.59396144  84145.08220145\n",
      " 105005.83769214 101233.56772747  53831.07669091  56881.41475224\n",
      "  68896.39346905 210040.00765883 120778.72270894 111724.87157654\n",
      " 101487.90541518 137959.02649624  63969.95996743 108857.91214126\n",
      " 186014.72531988 171442.64130747 174644.26529205 117671.49128195\n",
      "  96731.37857433 165452.25779409 107724.34331255  50194.54176913\n",
      " 116513.89532179  58632.4898682  158416.4682761   78541.48521609\n",
      " 159727.66671743 131137.87699644 184880.70924516 174609.0826688\n",
      "  93745.66352059  78341.13383418 180745.9043908   84461.61490552\n",
      " 142900.90602903 170618.44098397  84365.09530839 105307.3716218\n",
      " 141660.07290787  52527.34340442 141842.9626416  139176.27973195\n",
      "  98294.52669666 113586.86790969 126754.21895489 152135.51985562\n",
      "  58864.51658955 174285.5736113  124624.04380784 169065.77658978\n",
      "  91279.33198209 156170.37268962  84307.26579366  77877.75223097\n",
      " 120414.02421346  93380.44273241 139020.62514121 143604.67103573\n",
      " 171148.30815368 140082.97050131 106369.71689747 155641.43851388\n",
      " 140030.10330037 110172.87893525  69672.98677565  88148.52068041\n",
      " 140133.59925093 148479.09537887 157916.63505257  58532.94863141\n",
      "  93707.3842239  112646.37475705  56556.1894366  107414.89996181\n",
      " 147352.80227752 152144.10104034 167808.11701784 118750.25230713\n",
      " 120763.27666701 139029.95295663 157527.90934119 121962.0621496\n",
      "  87091.32399736 104792.91384333  95335.22679185 178389.52287436\n",
      " 181942.63776381 109831.34945506 165254.03344096 167806.06491902\n",
      " 158002.44642543 174782.86900956 170196.77102699  52302.18161612\n",
      " 176938.1159579  104751.83583865  82710.31528805 138890.52767844\n",
      " 144274.74675425 161679.0183644  169662.05445895 120450.9231013\n",
      " 158880.70799547 110213.73252824 169674.51532366  60760.61300841\n",
      " 159036.99629068 158169.44286048 174511.70494475 156294.79927784\n",
      " 103714.37583212  85635.96237574 141603.54878757 165917.6915698\n",
      " 121182.03641977 170751.87883894 100505.77549411  82097.51033128\n",
      " 178643.18879843 101790.48384578  70507.40958622  90250.04230088\n",
      "  61247.4996268   68912.1753452   72775.81613475 176914.08873124\n",
      "  89704.69244931 129209.43730015  92672.90938383  88133.59175044\n",
      " 172836.33021619  60893.62070014 169015.8944601  166450.24453204\n",
      " 165425.54476415 102170.5169499  181594.57928216  73702.57942561\n",
      "  91267.42979668 135791.54160195  64922.802573    71775.70235726\n",
      "  60603.91401515 184288.61041916 176286.69585945 158907.75687039\n",
      " 141359.32216439 154611.17928321  58549.58863233  90618.58407899\n",
      " 152885.51163925 168398.05223805  72485.36274539 116064.24350667\n",
      "  80087.80697208 149828.90896188 116806.9595737  130191.48845161\n",
      " 174534.42670329 293584.45948283 146270.83174789 150646.69178014\n",
      "  86107.47782247  69967.20842246  70096.78368773  69033.69170769\n",
      " 120666.75708063  89677.68014063 166824.27091662 125514.76626409\n",
      "  67209.67687466 140930.69427702 118544.30490695 165897.61905906\n",
      " 168655.48652552 147009.66805049 141396.22104146 109086.50634849]\n"
     ]
    },
    {
     "data": {
      "text/plain": [
       "200"
      ]
     },
     "execution_count": 21,
     "metadata": {},
     "output_type": "execute_result"
    }
   ],
   "source": [
    "# Predicting test set results\n",
    "y_pred=model_fit.predict(X_test)\n",
    "print(y_pred)\n",
    "len(y_pred)"
   ]
  },
  {
   "cell_type": "code",
   "execution_count": 22,
   "metadata": {},
   "outputs": [
    {
     "name": "stdout",
     "output_type": "stream",
     "text": [
      "[-8.80536598e+02 -6.98169073e+02  5.25845857e-01  8.44390881e-01\n",
      "  1.07574255e-01]\n",
      "-51035.22972402591\n"
     ]
    }
   ],
   "source": [
    "# Calculating coefficients\n",
    "print(model_fit.coef_)\n",
    "print(model_fit.intercept_)"
   ]
  },
  {
   "cell_type": "code",
   "execution_count": 23,
   "metadata": {},
   "outputs": [
    {
     "data": {
      "text/plain": [
       "0.9112695892268863"
      ]
     },
     "execution_count": 23,
     "metadata": {},
     "output_type": "execute_result"
    }
   ],
   "source": [
    "# Calculating R square\n",
    "from sklearn.metrics import r2_score,mean_squared_error\n",
    "r2_score(y_test,y_pred)"
   ]
  },
  {
   "cell_type": "code",
   "execution_count": null,
   "metadata": {},
   "outputs": [],
   "source": [
    "# mean_squared_error(y_test,y_pred)"
   ]
  },
  {
   "cell_type": "code",
   "execution_count": null,
   "metadata": {},
   "outputs": [],
   "source": []
  },
  {
   "cell_type": "code",
   "execution_count": null,
   "metadata": {},
   "outputs": [],
   "source": []
  }
 ],
 "metadata": {
  "kernelspec": {
   "display_name": "Python 3",
   "language": "python",
   "name": "python3"
  },
  "language_info": {
   "codemirror_mode": {
    "name": "ipython",
    "version": 3
   },
   "file_extension": ".py",
   "mimetype": "text/x-python",
   "name": "python",
   "nbconvert_exporter": "python",
   "pygments_lexer": "ipython3",
   "version": "3.6.4"
  }
 },
 "nbformat": 4,
 "nbformat_minor": 2
}
